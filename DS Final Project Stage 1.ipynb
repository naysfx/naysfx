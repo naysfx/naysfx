{
 "cells": [
  {
   "cell_type": "code",
   "execution_count": 1,
   "id": "6e3f190a-996b-4519-b643-c629cac361a0",
   "metadata": {
    "tags": []
   },
   "outputs": [
    {
     "name": "stdout",
     "output_type": "stream",
     "text": [
      "Naysfx\n"
     ]
    }
   ],
   "source": [
    "print (\"Naysfx\")"
   ]
  },
  {
   "cell_type": "code",
   "execution_count": null,
   "id": "a851c486-caac-4b37-b368-cf4d2571085c",
   "metadata": {},
   "outputs": [],
   "source": []
  }
 ],
 "metadata": {
  "kernelspec": {
   "display_name": "Python 3 (ipykernel)",
   "language": "python",
   "name": "python3"
  },
  "language_info": {
   "codemirror_mode": {
    "name": "ipython",
    "version": 3
   },
   "file_extension": ".py",
   "mimetype": "text/x-python",
   "name": "python",
   "nbconvert_exporter": "python",
   "pygments_lexer": "ipython3",
   "version": "3.11.3"
  }
 },
 "nbformat": 4,
 "nbformat_minor": 5
}
